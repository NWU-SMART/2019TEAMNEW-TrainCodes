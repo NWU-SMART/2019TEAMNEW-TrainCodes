{
 "cells": [
  {
   "cell_type": "markdown",
   "metadata": {},
   "source": [
    "/*------------------ 开发者信息 --------------------*/\n",
    "/**   开发者：于林生\n",
    " *    开发日期：2020.5.20\n",
    " *    版本号：Versoin 1.0\n",
    " *    修改日期：\n",
    " *    修改人：\n",
    " *    修改内容：\n",
    " */\n",
    "/*------------------ 开发者信息 --------------------*/"
   ]
  },
  {
   "cell_type": "markdown",
   "metadata": {},
   "source": []
  },
  {
   "cell_type": "code",
   "execution_count": null,
   "metadata": {
    "pycharm": {
     "is_executing": true
    }
   },
   "outputs": [],
   "source": [
    "'''\n",
    "代码布局\n",
    "1.导入需要的包\n",
    "2.读取数据\n",
    "3.数据预处理\n",
    "4.模型构建\n",
    "5.训练模型\n",
    "6.结果可视化\n",
    "'''"
   ]
  },
  {
   "cell_type": "code",
   "execution_count": null,
   "metadata": {
    "pycharm": {
     "is_executing": true
    }
   },
   "outputs": [],
   "source": [
    "# 导入需要的包文件\n",
    "import matplotlib.pyplot as plt\n",
    "import numpy as np\n",
    "import pandas as pd\n",
    "from sklearn.preprocessing import MinMaxScaler\n",
    "import torch\n",
    "import torchvision \n",
    "import torchvision.transforms as transforms\n",
    "from torch.autograd import Variable"
   ]
  },
  {
   "cell_type": "code",
   "execution_count": null,
   "metadata": {
    "pycharm": {
     "is_executing": true
    }
   },
   "outputs": [],
   "source": [
    "# 读取数据\n",
    "path = \"../boston_housing.npz\"  #数据的路径\n",
    "data = np.load(path)#加载npz数据\n",
    "print(data.files)#打印数据包含的表头\n",
    "# 获得数据，并查看数据类型\n",
    "y = data['y']\n",
    "x = data['x']\n",
    "print(y.shape)\n",
    "print(x.shape)"
   ]
  },
  {
   "cell_type": "code",
   "execution_count": null,
   "metadata": {
    "pycharm": {
     "is_executing": true
    }
   },
   "outputs": [],
   "source": [
    "# 划分数据集（训练集和验证集）\n",
    "train_x = x[:404]\n",
    "test_x = x[404:]\n",
    "train_y = y[:404]\n",
    "test_y = y [404:]\n",
    "data.close()\n",
    "print(train_x.shape)\n",
    "print(test_x.shape)\n",
    "print(train_y.shape)\n",
    "print(test_y.shape)"
   ]
  },
  {
   "cell_type": "code",
   "execution_count": null,
   "metadata": {
    "scrolled": true,
    "pycharm": {
     "is_executing": true
    }
   },
   "outputs": [],
   "source": [
    "# 数据归一化\n",
    "# 转成DataFrame格式方便数据处理(矩阵类型)\n",
    "x_train_pd = pd.DataFrame(train_x)#（404*13）\n",
    "y_train_pd = pd.DataFrame(train_y)#（404*1）\n",
    "x_valid_pd = pd.DataFrame(test_x)#（102*13）\n",
    "y_valid_pd = pd.DataFrame(test_y)#（102*1）\n",
    "# 训练集归一化归一到0-1之间\n",
    "min_max_scaler = MinMaxScaler()\n",
    "\n",
    "min_max_scaler.fit(x_train_pd)\n",
    "train_x = min_max_scaler.transform(x_train_pd)\n",
    "\n",
    "min_max_scaler.fit(y_train_pd)\n",
    "train_y = min_max_scaler.transform(y_train_pd)\n",
    "\n",
    "# 验证集归一化\n",
    "min_max_scaler.fit(x_valid_pd)\n",
    "test_x = min_max_scaler.transform(x_valid_pd)\n",
    "\n",
    "min_max_scaler.fit(y_valid_pd)\n",
    "test_y = min_max_scaler.transform(y_valid_pd)\n",
    "# 上述数据处理结果为numpy类型\n",
    "# 转换为tensor类型\n",
    "train_x = torch.FloatTensor(train_x)\n",
    "train_y = torch.FloatTensor(train_x)\n",
    "test_x = torch.FloatTensor(train_x)\n",
    "test_y = torch.FloatTensor(train_x)"
   ]
  },
  {
   "cell_type": "code",
   "execution_count": null,
   "metadata": {
    "pycharm": {
     "is_executing": true
    }
   },
   "outputs": [],
   "source": [
    "# 模型构建\n",
    "# 三层网络结果\n",
    "# 输入，输出，隐藏层\n",
    "model = torch.nn.Sequential(\n",
    "#     输入特征为X的13维特征，输出设定为100\n",
    "    torch.nn.Linear(13, out_features=100),\n",
    "#     通过一个relu激活函数\n",
    "    torch.nn.ReLU(),\n",
    "#     根据上一个输入100，定义为一个输出\n",
    "    torch.nn.Linear(100, 1),\n",
    "#     再跟随一个relu激活函数\n",
    "#     torch.nn.ReLU(),\n",
    ")\n",
    "torch.nn.init.normal_(model[0].weight)\n",
    "torch.nn.init.normal_(model[2].weight)\n",
    "# 定义学习率\n",
    "learning_rate = 1e-2\n",
    "# 定义损失函数MSE\n",
    "loss_fn = torch.nn.MSELoss(reduction='sum')\n",
    "# 优化函数Adam\n",
    "optimizer = torch.optim.Adam(model.parameters(), lr=learning_rate)"
   ]
  },
  {
   "cell_type": "code",
   "execution_count": null,
   "metadata": {
    "scrolled": true,
    "pycharm": {
     "is_executing": true
    }
   },
   "outputs": [],
   "source": [
    "num_epochs = 500\n",
    "print(train_x.shape)\n",
    "for i in range(num_epochs):\n",
    "#     训练特征\n",
    "    y_pred =  model(train_x)\n",
    "# 计算损失函数\n",
    "    loss = loss_fn(y_pred,train_y)\n",
    "    print(i, loss.item())    \n",
    "# 优化参数归零\n",
    "    optimizer.zero_grad()\n",
    "#     反向传播\n",
    "    loss.backward()  \n",
    "    optimizer.step()\n",
    "    plt.plot(i,loss.item()) \n",
    "    plt.scatter(i,loss.item())\n",
    "plt.show()\n",
    "\n"
   ]
  },
  {
   "cell_type": "code",
   "execution_count": null,
   "metadata": {
    "pycharm": {
     "is_executing": true
    }
   },
   "outputs": [],
   "source": [
    "model\n"
   ]
  },
  {
   "cell_type": "code",
   "execution_count": null,
   "metadata": {
    "pycharm": {
     "is_executing": true
    }
   },
   "outputs": [],
   "source": [
    "model[0]"
   ]
  },
  {
   "cell_type": "code",
   "execution_count": null,
   "metadata": {
    "pycharm": {
     "is_executing": true
    }
   },
   "outputs": [],
   "source": [
    "model[0].weight"
   ]
  },
  {
   "cell_type": "code",
   "execution_count": null,
   "metadata": {
    "pycharm": {
     "is_executing": true
    }
   },
   "outputs": [],
   "source": []
  },
  {
   "cell_type": "code",
   "execution_count": null,
   "metadata": {
    "pycharm": {
     "is_executing": true
    }
   },
   "outputs": [],
   "source": []
  }
 ],
 "metadata": {
  "kernelspec": {
   "display_name": "Python 3",
   "language": "python",
   "name": "python3"
  },
  "language_info": {
   "codemirror_mode": {
    "name": "ipython",
    "version": 3
   },
   "file_extension": ".py",
   "mimetype": "text/x-python",
   "name": "python",
   "nbconvert_exporter": "python",
   "pygments_lexer": "ipython3",
   "version": "3.7.3"
  }
 },
 "nbformat": 4,
 "nbformat_minor": 2
}
